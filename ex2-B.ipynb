{
 "cells": [
  {
   "cell_type": "code",
   "execution_count": 38,
   "id": "initial_id",
   "metadata": {
    "collapsed": true,
    "ExecuteTime": {
     "end_time": "2024-04-01T17:57:34.303720Z",
     "start_time": "2024-04-01T17:57:34.298842Z"
    }
   },
   "outputs": [],
   "source": [
    "import torch\n",
    "import torch.nn as nn\n",
    "import torch.nn.functional as F\n",
    "from torch.utils.data import DataLoader\n",
    "from torchvision import datasets\n",
    "import torchvision.transforms as transforms\n",
    "import torch.optim as optim"
   ]
  },
  {
   "cell_type": "code",
   "outputs": [
    {
     "name": "stdout",
     "output_type": "stream",
     "text": [
      "MLP(\n",
      "  (fc1): Linear(in_features=784, out_features=120, bias=True)\n",
      "  (fc2): Linear(in_features=120, out_features=84, bias=True)\n",
      "  (fc3): Linear(in_features=84, out_features=10, bias=True)\n",
      ")\n"
     ]
    }
   ],
   "source": [
    "# تعریف ترانسفورم برای پیش‌پردازش تصاویر\n",
    "transform = transforms.Compose([\n",
    "    transforms.ToTensor(),  # تبدیل تصویر به تنسور پایتورچ\n",
    "])\n",
    "\n",
    "class MLP(nn.Module):\n",
    "    def __init__(self):\n",
    "        super(MLP, self).__init__()\n",
    "        self.fc1 = nn.Linear(28 * 28, 120)  # لایه پنهان اول\n",
    "        self.fc2 = nn.Linear(120, 84)       # لایه پنهان دوم\n",
    "        self.fc3 = nn.Linear(84, 10)        # لایه خروجی\n",
    "    \n",
    "    def forward(self, x):\n",
    "        x = x.view(-1, 28 * 28)  # تغییر ابعاد برای ورودی به شبکه\n",
    "        x = F.relu(self.fc1(x))  # فعال‌سازی ReLU برای لایه پنهان اول\n",
    "        x = F.relu(self.fc2(x))  # فعال‌سازی ReLU برای لایه پنهان دوم\n",
    "        x = self.fc3(x)          # لایه خروجی بدون فعال‌سازی آخری\n",
    "        return x\n",
    "\n",
    "# ایجاد نمونه از مدل\n",
    "model = MLP()\n",
    "print(model) "
   ],
   "metadata": {
    "collapsed": false,
    "ExecuteTime": {
     "end_time": "2024-04-01T17:57:35.041808Z",
     "start_time": "2024-04-01T17:57:35.031696Z"
    }
   },
   "id": "e769792f851f975f",
   "execution_count": 39
  },
  {
   "cell_type": "code",
   "outputs": [
    {
     "name": "stdout",
     "output_type": "stream",
     "text": [
      "تعداد به‌روزرسانی‌ها (تکرارها): 300\n"
     ]
    }
   ],
   "source": [
    "# محاسبه تعداد به‌روزرسانی‌ها (تکرارها)\n",
    "total_samples = 12000\n",
    "batch_size = 200\n",
    "num_epochs = 5\n",
    "\n",
    "total_updates = (total_samples // batch_size) * num_epochs\n",
    "print(\"تعداد به‌روزرسانی‌ها (تکرارها):\", total_updates)"
   ],
   "metadata": {
    "collapsed": false,
    "ExecuteTime": {
     "end_time": "2024-04-01T17:57:36.071077Z",
     "start_time": "2024-04-01T17:57:36.063053Z"
    }
   },
   "id": "ad2a64d2e88ae7d9",
   "execution_count": 40
  },
  {
   "cell_type": "code",
   "outputs": [
    {
     "name": "stdout",
     "output_type": "stream",
     "text": [
      "هزینه برای یک دسته از داده‌ها: 2.3149290084838867\n"
     ]
    }
   ],
   "source": [
    "train_dataset = datasets.MNIST(root='./data', train=True, download=True, transform=transform)\n",
    "train_loader = DataLoader(train_dataset, batch_size=64, shuffle=True)\n",
    "\n",
    "# ایجاد نمونه از مدل\n",
    "model = MLP()\n",
    "\n",
    "# تعریف تابع خطا و بهینه‌ساز\n",
    "criterion = nn.CrossEntropyLoss()\n",
    "\n",
    "# حساب کردن هزینه برای یک دسته از داده‌ها\n",
    "for images, labels in train_loader:\n",
    "    outputs = model(images)\n",
    "    loss = criterion(outputs, labels)\n",
    "    print(\"هزینه برای یک دسته از داده‌ها:\", loss.item())\n",
    "    break  # برای یک دسته از داده‌ها از حلقه خارج می‌شویم"
   ],
   "metadata": {
    "collapsed": false,
    "ExecuteTime": {
     "end_time": "2024-04-01T17:57:38.519737Z",
     "start_time": "2024-04-01T17:57:38.421865Z"
    }
   },
   "id": "afc34b15f3899bb9",
   "execution_count": 41
  },
  {
   "cell_type": "code",
   "outputs": [],
   "source": [
    "# تعریف بهینه‌ساز (استفاده از SGD)\n",
    "optimizer = optim.SGD(model.parameters(), lr=0.01)\n",
    "\n",
    "# اجرای Backpropagation و به‌روزرسانی وزن‌ها\n",
    "for images, labels in train_loader:\n",
    "    # پاک کردن گرادیان‌ها\n",
    "    optimizer.zero_grad()\n",
    "    \n",
    "    # محاسبه خروجی‌ها\n",
    "    outputs = model(images)\n",
    "    # محاسبه خطای شبکه\n",
    "    loss = criterion(outputs, labels)\n",
    "    # محاسبه گرادیان‌ها\n",
    "    loss.backward()\n",
    "    \n",
    "    # به‌روزرسانی وزن‌ها\n",
    "    optimizer.step()"
   ],
   "metadata": {
    "collapsed": false,
    "ExecuteTime": {
     "end_time": "2024-04-01T17:57:48.834410Z",
     "start_time": "2024-04-01T17:57:40.395073Z"
    }
   },
   "id": "3a3c1ec661eee026",
   "execution_count": 42
  },
  {
   "cell_type": "code",
   "outputs": [],
   "source": [
    "# تابع محاسبه دقت\n",
    "def calculate_accuracy(model, data_loader):\n",
    "    correct = 0\n",
    "    total = 0\n",
    "    with torch.no_grad():\n",
    "        for images, labels in data_loader:\n",
    "            outputs = model(images)\n",
    "            _, predicted = torch.max(outputs, 1)\n",
    "            total += labels.size(0)\n",
    "            correct += (predicted == labels).sum().item()\n",
    "    return correct / total\n"
   ],
   "metadata": {
    "collapsed": false,
    "ExecuteTime": {
     "end_time": "2024-04-01T17:57:50.458035Z",
     "start_time": "2024-04-01T17:57:50.445489Z"
    }
   },
   "id": "d0357b13a1ded4f3",
   "execution_count": 43
  },
  {
   "cell_type": "code",
   "outputs": [
    {
     "name": "stdout",
     "output_type": "stream",
     "text": [
      "Epoch 1/5, Test Loss: 0.2647, Test Accuracy: 0.9255\n",
      "Epoch 2/5, Test Loss: 0.2502, Test Accuracy: 0.9300\n",
      "Epoch 3/5, Test Loss: 0.2387, Test Accuracy: 0.9332\n",
      "Epoch 4/5, Test Loss: 0.2259, Test Accuracy: 0.9345\n",
      "Epoch 5/5, Test Loss: 0.2187, Test Accuracy: 0.9354\n"
     ]
    }
   ],
   "source": [
    "test_dataset = datasets.MNIST(root='./data', train=False, download=True, transform=transform)\n",
    "test_loader = DataLoader(test_dataset, batch_size=64, shuffle=False)\n",
    "# آموزش مدل\n",
    "for epoch in range(num_epochs):\n",
    "    # آموزش مدل\n",
    "    model.train()\n",
    "    for images, labels in train_loader:\n",
    "        optimizer.zero_grad()\n",
    "        outputs = model(images)\n",
    "        loss = criterion(outputs, labels)\n",
    "        loss.backward()\n",
    "        optimizer.step()\n",
    "    \n",
    "    # ارزیابی دقت و هزینه آزمون برای این ایپاک\n",
    "    model.eval()\n",
    "    test_loss = 0\n",
    "    test_accuracy = 0\n",
    "    with torch.no_grad():\n",
    "        for images, labels in test_loader:\n",
    "            outputs = model(images)\n",
    "            test_loss += criterion(outputs, labels).item()\n",
    "            _, predicted = torch.max(outputs, 1)\n",
    "            test_accuracy += (predicted == labels).sum().item()\n",
    "    test_loss /= len(test_loader)\n",
    "    test_accuracy /= len(test_dataset)\n",
    "    \n",
    "    # گزارش دقت و هزینه آزمون برای این ایپاک\n",
    "    print(f\"Epoch {epoch+1}/{num_epochs}, Test Loss: {test_loss:.4f}, Test Accuracy: {test_accuracy:.4f}\")"
   ],
   "metadata": {
    "collapsed": false,
    "ExecuteTime": {
     "end_time": "2024-04-01T18:10:15.019604Z",
     "start_time": "2024-04-01T18:09:23.826616Z"
    }
   },
   "id": "8adea0fe50b99b6a",
   "execution_count": 45
  },
  {
   "cell_type": "code",
   "outputs": [
    {
     "data": {
      "text/plain": "   Epoch  Test Loss  Test Accuracy\n0      1   0.105785         0.9697\n1      2   0.103919         0.9696\n2      3   0.101571         0.9697\n3      4   0.103670         0.9688\n4      5   0.098866         0.9700",
      "text/html": "<div>\n<style scoped>\n    .dataframe tbody tr th:only-of-type {\n        vertical-align: middle;\n    }\n\n    .dataframe tbody tr th {\n        vertical-align: top;\n    }\n\n    .dataframe thead th {\n        text-align: right;\n    }\n</style>\n<table border=\"1\" class=\"dataframe\">\n  <thead>\n    <tr style=\"text-align: right;\">\n      <th></th>\n      <th>Epoch</th>\n      <th>Test Loss</th>\n      <th>Test Accuracy</th>\n    </tr>\n  </thead>\n  <tbody>\n    <tr>\n      <th>0</th>\n      <td>1</td>\n      <td>0.105785</td>\n      <td>0.9697</td>\n    </tr>\n    <tr>\n      <th>1</th>\n      <td>2</td>\n      <td>0.103919</td>\n      <td>0.9696</td>\n    </tr>\n    <tr>\n      <th>2</th>\n      <td>3</td>\n      <td>0.101571</td>\n      <td>0.9697</td>\n    </tr>\n    <tr>\n      <th>3</th>\n      <td>4</td>\n      <td>0.103670</td>\n      <td>0.9688</td>\n    </tr>\n    <tr>\n      <th>4</th>\n      <td>5</td>\n      <td>0.098866</td>\n      <td>0.9700</td>\n    </tr>\n  </tbody>\n</table>\n</div>"
     },
     "execution_count": 51,
     "metadata": {},
     "output_type": "execute_result"
    }
   ],
   "source": [
    "import pandas as pd\n",
    "\n",
    "# ذخیره هزینه و دقت برای هر ایپاک\n",
    "epoch_results = []\n",
    "\n",
    "# آموزش مدل\n",
    "for epoch in range(num_epochs):\n",
    "    # آموزش مدل\n",
    "    model.train()\n",
    "    for images, labels in train_loader:\n",
    "        optimizer.zero_grad()\n",
    "        outputs = model(images)\n",
    "        loss = criterion(outputs, labels)\n",
    "        loss.backward()\n",
    "        optimizer.step()\n",
    "    \n",
    "    # ارزیابی دقت و هزینه آزمون برای این ایپاک\n",
    "    model.eval()\n",
    "    test_loss = 0\n",
    "    test_accuracy = 0\n",
    "    with torch.no_grad():\n",
    "        for images, labels in test_loader:\n",
    "            outputs = model(images)\n",
    "            test_loss += criterion(outputs, labels).item()\n",
    "            _, predicted = torch.max(outputs, 1)\n",
    "            test_accuracy += (predicted == labels).sum().item()\n",
    "    test_loss /= len(test_loader)\n",
    "    test_accuracy /= len(test_dataset)\n",
    "    \n",
    "    # ذخیره نتایج ایپاک جاری\n",
    "    epoch_results.append({'Epoch': epoch+1, 'Test Loss': test_loss, 'Test Accuracy': test_accuracy})\n",
    "\n",
    "# تبدیل نتایج به دیتافریم پانداس\n",
    "results_df = pd.DataFrame(epoch_results)\n",
    "\n",
    "# چاپ دیتافریم به صورت جدول\n",
    "results_df"
   ],
   "metadata": {
    "collapsed": false,
    "ExecuteTime": {
     "end_time": "2024-04-01T18:22:04.816771Z",
     "start_time": "2024-04-01T18:21:16.514800Z"
    }
   },
   "id": "e26d43be771945c7",
   "execution_count": 51
  },
  {
   "cell_type": "code",
   "outputs": [],
   "source": [],
   "metadata": {
    "collapsed": false
   },
   "id": "e13a50b6871057e4",
   "execution_count": null
  }
 ],
 "metadata": {
  "kernelspec": {
   "display_name": "Python 3",
   "language": "python",
   "name": "python3"
  },
  "language_info": {
   "codemirror_mode": {
    "name": "ipython",
    "version": 2
   },
   "file_extension": ".py",
   "mimetype": "text/x-python",
   "name": "python",
   "nbconvert_exporter": "python",
   "pygments_lexer": "ipython2",
   "version": "2.7.6"
  }
 },
 "nbformat": 4,
 "nbformat_minor": 5
}
